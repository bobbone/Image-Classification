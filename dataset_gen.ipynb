{
 "cells": [
  {
   "cell_type": "markdown",
   "metadata": {},
   "source": [
    "Training set"
   ]
  },
  {
   "cell_type": "code",
   "execution_count": 1,
   "metadata": {},
   "outputs": [
    {
     "name": "stdout",
     "output_type": "stream",
     "text": [
      "imported\n",
      "cp folder\n",
      "cp ended loop\n",
      "(12002, 200, 200, 3) (12002,) <class 'numpy.ndarray'>\n"
     ]
    }
   ],
   "source": [
    "from os import listdir\n",
    "from keras.preprocessing.image import load_img\n",
    "import numpy as np\n",
    "from numpy import asarray, save\n",
    "from keras.preprocessing.image import img_to_array\n",
    "\n",
    "\n",
    "print(\"imported\")\n",
    "\n",
    "folder = 'train/'\n",
    "photos, labels = list(), list()\n",
    "\n",
    "print(\"cp folder\")\n",
    "\n",
    "# enumerate files in the directory\n",
    "for file in listdir(folder):\n",
    "    # determine class\n",
    "    output = 0.0\n",
    "    if file.startswith('dog'):\n",
    "        output = 1.0\n",
    "\n",
    "    # load image\n",
    "    photo = load_img(folder + file, target_size=(200, 200))\n",
    "    # convert to numpy array\n",
    "    photo = img_to_array(photo)\n",
    "    # store in lists\n",
    "    photos.append(photo)\n",
    "    labels.append(output)\n",
    "\n",
    "print(\"cp ended loop\")\n",
    "\n",
    "# Convert lists to numpy arrays AFTER the loop completes\n",
    "photos = asarray(photos)\n",
    "labels = asarray(labels)\n",
    "\n",
    "# print the shape of arrays\n",
    "print(photos.shape, labels.shape, type(photos))\n",
    "\n",
    "# save the reshaped photos\n",
    "save('dogs_vs_cats_photos.npy', photos)\n",
    "save('dogs_vs_cats_labels.npy', labels)\n"
   ]
  },
  {
   "cell_type": "markdown",
   "metadata": {},
   "source": [
    "testing set"
   ]
  },
  {
   "cell_type": "code",
   "execution_count": 2,
   "metadata": {},
   "outputs": [
    {
     "name": "stdout",
     "output_type": "stream",
     "text": [
      "(998, 200, 200, 3) (998,) <class 'numpy.ndarray'>\n"
     ]
    }
   ],
   "source": [
    "from os import listdir\n",
    "from keras.preprocessing.image import load_img\n",
    "import numpy as np\n",
    "from numpy import asarray, save\n",
    "from keras.preprocessing.image import img_to_array\n",
    "\n",
    "folder = 'test/'\n",
    "photos, labels = list(), list()\n",
    "\n",
    "# enumerate files in the directory\n",
    "for file in listdir(folder):\n",
    "    # determine class\n",
    "    output = 0.0\n",
    "    if file.startswith('dog'):\n",
    "        output = 1.0\n",
    "\n",
    "    # load image\n",
    "    photo = load_img(folder + file, target_size=(200, 200))\n",
    "    # convert to numpy array\n",
    "    photo = img_to_array(photo)\n",
    "    # store in lists\n",
    "    photos.append(photo)\n",
    "    labels.append(output)\n",
    "\n",
    "# Convert lists to numpy arrays AFTER the loop completes\n",
    "photos = asarray(photos)\n",
    "labels = asarray(labels)\n",
    "\n",
    "# print the shape of arrays\n",
    "print(photos.shape, labels.shape, type(photos))\n",
    "\n",
    "# save the reshaped photos\n",
    "save('test_photos.npy', photos)\n",
    "save('test_labels.npy', labels)\n"
   ]
  }
 ],
 "metadata": {
  "kernelspec": {
   "display_name": "Python 3",
   "language": "python",
   "name": "python3"
  },
  "language_info": {
   "codemirror_mode": {
    "name": "ipython",
    "version": 3
   },
   "file_extension": ".py",
   "mimetype": "text/x-python",
   "name": "python",
   "nbconvert_exporter": "python",
   "pygments_lexer": "ipython3",
   "version": "3.12.6"
  }
 },
 "nbformat": 4,
 "nbformat_minor": 2
}
